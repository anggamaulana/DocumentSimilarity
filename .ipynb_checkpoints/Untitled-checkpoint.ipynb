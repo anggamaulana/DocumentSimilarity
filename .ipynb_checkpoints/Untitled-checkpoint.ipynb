{
 "cells": [
  {
   "cell_type": "code",
   "execution_count": 1,
   "metadata": {
    "collapsed": true
   },
   "outputs": [],
   "source": [
    "from sklearn.feature_extraction.text import CountVectorizer\n",
    "from sklearn.feature_extraction.text import TfidfVectorizer\n",
    "from Sastrawi.Stemmer.StemmerFactory import StemmerFactory\n",
    "import re\n"
   ]
  },
  {
   "cell_type": "code",
   "execution_count": 2,
   "metadata": {
    "collapsed": true
   },
   "outputs": [],
   "source": [
    "REGEX = re.compile(r\"\\s\")\n",
    "def tokenize(text):\n",
    "    return [tok.strip().lower() for tok in REGEX.split(text)]\n",
    "\n",
    "def stopwords(text):\n",
    "\treg = re.compile(r\"\\n\")\n",
    "\treturn reg.split(text)"
   ]
  },
  {
   "cell_type": "code",
   "execution_count": 3,
   "metadata": {
    "collapsed": true
   },
   "outputs": [],
   "source": [
    "file = open(\"source1.txt\",\"r\");\n",
    "raw1 = file.read()\n",
    "\n",
    "file = open(\"source2.txt\",\"r\");\n",
    "raw2 = file.read()\n",
    "\n",
    "file = open(\"source3.txt\",\"r\");\n",
    "raw3 = file.read()\n",
    "\n",
    "file = open(\"source4.txt\",\"r\");\n",
    "raw4 = file.read()\n",
    "\n",
    "file = open(\"source5.txt\",\"r\");\n",
    "raw5 = file.read()\n"
   ]
  },
  {
   "cell_type": "code",
   "execution_count": 4,
   "metadata": {
    "collapsed": true
   },
   "outputs": [],
   "source": [
    "# menghilangkan tanda baca\n",
    "tandabaca = [\".\",\",\",\"-\",\"%\"]\n",
    "for td in tandabaca:\n",
    "\traw1=raw1.replace(td,\"\")\n",
    "\traw2=raw2.replace(td,\"\")\n",
    "\traw3=raw3.replace(td,\"\")\n",
    "\traw4=raw4.replace(td,\"\")\n",
    "\traw5=raw5.replace(td,\"\")"
   ]
  },
  {
   "cell_type": "code",
   "execution_count": 5,
   "metadata": {
    "collapsed": true
   },
   "outputs": [],
   "source": [
    "# menghilangkan stop words\n",
    "file = open(\"stopwords.txt\",\"r\");\n",
    "st = file.read()\n",
    "stopwords = stopwords(st)\n",
    "\n",
    "for word in stopwords:\n",
    "\traw1=raw1.replace(\" \"+word+\" \",\" \")\n",
    "\traw2=raw2.replace(\" \"+word+\" \",\" \")\n",
    "\traw3=raw3.replace(\" \"+word+\" \",\" \")\n",
    "\traw4=raw4.replace(\" \"+word+\" \",\" \")\n",
    "\traw5=raw5.replace(\" \"+word+\" \",\" \")"
   ]
  },
  {
   "cell_type": "code",
   "execution_count": 6,
   "metadata": {
    "collapsed": true
   },
   "outputs": [],
   "source": [
    "# stemming \n",
    "factory = StemmerFactory()\n",
    "stemmer = factory.create_stemmer()\n",
    "\n",
    "\n",
    "hasilstem1 = stemmer.stem(raw1)\n",
    "hasilstem2 = stemmer.stem(raw2)\n",
    "hasilstem3 = stemmer.stem(raw3)\n",
    "hasilstem4 = stemmer.stem(raw4)\n",
    "hasilstem5 = stemmer.stem(raw5)"
   ]
  },
  {
   "cell_type": "code",
   "execution_count": 7,
   "metadata": {
    "collapsed": true
   },
   "outputs": [],
   "source": [
    "#tokenization\n",
    "train_set = [hasilstem1,hasilstem2,hasilstem3,hasilstem4,hasilstem5]"
   ]
  },
  {
   "cell_type": "code",
   "execution_count": 8,
   "metadata": {
    "collapsed": false
   },
   "outputs": [
    {
     "name": "stderr",
     "output_type": "stream",
     "text": [
      "/System/Library/Frameworks/Python.framework/Versions/2.7/Extras/lib/python/scipy/sparse/compressed.py:130: VisibleDeprecationWarning: `rank` is deprecated; use the `ndim` attribute or function instead. To find the rank of a matrix see `numpy.linalg.matrix_rank`.\n",
      "  if np.rank(self.data) != 1 or np.rank(self.indices) != 1 or np.rank(self.indptr) != 1:\n",
      "/System/Library/Frameworks/Python.framework/Versions/2.7/Extras/lib/python/scipy/sparse/coo.py:200: VisibleDeprecationWarning: `rank` is deprecated; use the `ndim` attribute or function instead. To find the rank of a matrix see `numpy.linalg.matrix_rank`.\n",
      "  if np.rank(self.data) != 1 or np.rank(self.row) != 1 or np.rank(self.col) != 1:\n"
     ]
    }
   ],
   "source": [
    "count_vectorizer = CountVectorizer(tokenizer=tokenize)\n",
    "data = count_vectorizer.fit_transform(train_set).toarray()\n",
    "vocab = count_vectorizer.get_feature_names()"
   ]
  },
  {
   "cell_type": "code",
   "execution_count": 9,
   "metadata": {
    "collapsed": false
   },
   "outputs": [
    {
     "name": "stdout",
     "output_type": "stream",
     "text": [
      "Jumlah Term FREQUENCY=============================\n",
      "[[0 0 0 ..., 0 0 1]\n",
      " [1 1 1 ..., 3 0 0]\n",
      " [0 0 0 ..., 0 0 0]\n",
      " [0 0 0 ..., 0 5 0]\n",
      " [0 0 0 ..., 0 0 0]]\n"
     ]
    }
   ],
   "source": [
    "print \"Jumlah Term FREQUENCY=============================\"\n",
    "print data"
   ]
  },
  {
   "cell_type": "code",
   "execution_count": 10,
   "metadata": {
    "collapsed": false
   },
   "outputs": [
    {
     "name": "stdout",
     "output_type": "stream",
     "text": [
      "VECTOR FITUR=============================\n",
      "[u'120', u'30', u'80', u'90', u'9286', u'accumulative', u'aceh', u'adi', u'adu', u'ahp', u'aju', u'akses', u'aksi', u'akurasi', u'alternatif', u'ambil', u'analisa', u'analytical', u'anggap', u'apache', u'aparatur', u'atas', u'badan', u'baik', u'bakat', u'balap', u'banding', u'bangun', u'bantu', u'bas', u'basis', u'bayes', u'beda', u'belimbing', u'bidang', u'bkd', u'blue', u'bobot', u'borda', u'buah', u'buka', u'bukti', u'burundi', u'butuh', u'calon', u'cctv', u'change', u'cipta', u'circuit', u'ciri', u'citra', u'closed', u'cocok', u'coratcoret', u'coretcoret', u'cropping', u'daerah', u'dalam', u'dan', u'dari', u'dasar', u'data', u'database', u'dekat', u'dengan', u'detection', u'deteksi', u'di', u'diamana', u'differences', u'dinding', u'dindingdinding', u'dukung', u'dunia', u'e', u'efektif', u'efisien', u'egovernment', u'ekspektasi', u'ekstraksi', u'elektronik', u'end', u'fitur', u'front', u'fungsi', u'gabung', u'gam', u'gatewayhasil', u'gdss', u'gera', u'gerak', u'gihosha', u'government', u'green', u'guna', u'hadap', u'harap', u'harus', u'hasil', u'hierarchy', u'ideal', u'identifikasi', u'ijin', u'illumination', u'images', u'industri', u'internet', u'invariant', u'isi', u'jabat', u'jadi', u'judi', u'kabupaten', u'kamera', u'kandidat', u'kantor', u'kelahi', u'kelola', u'kelompok', u'keluh', u'kembang', u'kemudian', u'kerja', u'ketidaksesuaian', u'klasifikasi', u'kompetensi', u'kompetisi', u'komputer', u'komunikasi', u'kondisi', u'kota', u'kriteria', u'kualitas', u'kulit', u'kurang', u'lalu', u'lapang', u'latih', u'layan', u'lebih', u'liar', u'lingkung', u'lowong', u'lulus', u'mahasiswa', u'maju', u'maksimal', u'maksimum', u'malam', u'mampu', u'mana', u'manajemen', u'manis', u'manusia', u'masalah', u'masingmasing', u'masyarakat', u'mata', u'matching', u'mengganggap', u'metode', u'milik', u'model', u'modern', u'mysql', u'nai', u'nakal', u'negara', u'negaranegara', u'nepotisme', u'nilai', u'objektif', u'oleh', u'pada', u'pagi', u'panen', u'pasca', u'pegawai', u'pemrosesan', u'pengaruh', u'perankingan', u'perintah', u'php', u'pilih', u'pkl', u'pns', u'politeknik', u'praktek', u'process', u'prodi', u'produksi', u'profil', u'profile', u'properti', u'proses', u'publik', u'putus', u'rangking', u'red', u'referensi', u'rekomendasi', u'remaja', u'rendah', u'republik', u'rgb', u'saat', u'saing', u'salah', u'sedia', u'segi', u'selatan', u'sepenuh', u'server', u'sesuai', u'siang', u'simpul', u'simulasi', u'sipil', u'sistem', u'skala', u'sms', u'solusi', u'sore', u'sortir', u'struktural', u'studi', u'subkriteria', u'sulit', u'swasta', u'tambah', u'tara', u'teknik', u'teknologi', u'television', u'teliti', u'tempat', u'tengahtengah', u'tentu', u'terap', u'tinggi', u'tingkat', u'tuju', u'tunjang', u'ubah', u'uji', u'undangundang', u'untuk', u'upaya', u'usah', u'usaha', u'usul', u've', u'video', u'visual', u'warga', u'warna', u'web', u'webcam']\n"
     ]
    }
   ],
   "source": [
    "print \"VECTOR FITUR=============================\"\n",
    "print vocab"
   ]
  },
  {
   "cell_type": "code",
   "execution_count": 11,
   "metadata": {
    "collapsed": false
   },
   "outputs": [
    {
     "name": "stdout",
     "output_type": "stream",
     "text": [
      "JUMLAH VECTOR FITUR=============================\n",
      "258\n"
     ]
    }
   ],
   "source": [
    "print \"JUMLAH VECTOR FITUR=============================\"\n",
    "print len(vocab)"
   ]
  },
  {
   "cell_type": "code",
   "execution_count": 12,
   "metadata": {
    "collapsed": true
   },
   "outputs": [],
   "source": [
    "tfidf = TfidfVectorizer().fit_transform(train_set)\n",
    "pairwise_similarity = tfidf * tfidf.T"
   ]
  },
  {
   "cell_type": "code",
   "execution_count": 13,
   "metadata": {
    "collapsed": false
   },
   "outputs": [
    {
     "name": "stdout",
     "output_type": "stream",
     "text": [
      "Jumlah Term FREQUENCY-Inverse Document Frequency=============================\n",
      "  (0, 172)\t0.0669771037498\n",
      "  (0, 162)\t0.0669771037498\n",
      "  (0, 165)\t0.1339542075\n",
      "  (0, 200)\t0.1339542075\n",
      "  (0, 235)\t0.0669771037498\n",
      "  (0, 155)\t0.1339542075\n",
      "  (0, 56)\t0.0540367055832\n",
      "  (0, 129)\t0.0540367055832\n",
      "  (0, 115)\t0.0669771037498\n",
      "  (0, 25)\t0.0669771037498\n",
      "  (0, 139)\t0.0669771037498\n",
      "  (0, 110)\t0.0669771037498\n",
      "  (0, 54)\t0.0669771037498\n",
      "  (0, 70)\t0.267908414999\n",
      "  (0, 101)\t0.0669771037498\n",
      "  (0, 12)\t0.200931311249\n",
      "  (0, 53)\t0.200931311249\n",
      "  (0, 71)\t0.0669771037498\n",
      "  (0, 27)\t0.0669771037498\n",
      "  (0, 114)\t0.0669771037498\n",
      "  (0, 192)\t0.0669771037498\n",
      "  (0, 194)\t0.0540367055832\n",
      "  (0, 227)\t0.0669771037498\n",
      "  (0, 97)\t0.113201195861\n",
      "  (0, 242)\t0.216146822333\n",
      "  :\t:\n",
      "  (4, 209)\t0.152150612876\n",
      "  (4, 122)\t0.0507168709588\n",
      "  (4, 124)\t0.0507168709588\n",
      "  (4, 208)\t0.0507168709588\n",
      "  (4, 248)\t0.202867483835\n",
      "  (4, 245)\t0.0507168709588\n",
      "  (4, 21)\t0.0507168709588\n",
      "  (4, 126)\t0.101433741918\n",
      "  (4, 117)\t0.202867483835\n",
      "  (4, 87)\t0.0507168709588\n",
      "  (4, 9)\t0.101433741918\n",
      "  (4, 17)\t0.0507168709588\n",
      "  (4, 98)\t0.0507168709588\n",
      "  (4, 187)\t0.0507168709588\n",
      "  (4, 38)\t0.101433741918\n",
      "  (4, 236)\t0.152150612876\n",
      "  (4, 37)\t0.0507168709588\n",
      "  (4, 14)\t0.202867483835\n",
      "  (4, 196)\t0.152150612876\n",
      "  (4, 247)\t0.0507168709588\n",
      "  (4, 154)\t0.0507168709588\n",
      "  (4, 179)\t0.0507168709588\n",
      "  (4, 58)\t0.0507168709588\n",
      "  (4, 109)\t0.0507168709588\n",
      "  (4, 188)\t0.0507168709588\n"
     ]
    }
   ],
   "source": [
    "print \"Jumlah Term FREQUENCY-Inverse Document Frequency=============================\"\n",
    "print tfidf"
   ]
  },
  {
   "cell_type": "code",
   "execution_count": 14,
   "metadata": {
    "collapsed": false
   },
   "outputs": [
    {
     "name": "stdout",
     "output_type": "stream",
     "text": [
      "Jumlah COSINE-SIMILARITY=============================\n",
      "  (0, 4)\t0.0411088002824\n",
      "  (0, 1)\t0.157883911632\n",
      "  (0, 3)\t0.063243282029\n",
      "  (0, 2)\t0.0634628511072\n",
      "  (0, 0)\t1.0\n",
      "  (1, 3)\t0.0280229334689\n",
      "  (1, 4)\t0.0247116350123\n",
      "  (1, 2)\t0.0543000717306\n",
      "  (1, 1)\t1.0\n",
      "  (1, 0)\t0.157883911632\n",
      "  (2, 3)\t0.0473346566269\n",
      "  (2, 4)\t0.129711762854\n",
      "  (2, 1)\t0.0543000717306\n",
      "  (2, 2)\t1.0\n",
      "  (2, 0)\t0.0634628511072\n",
      "  (3, 4)\t0.034999109121\n",
      "  (3, 2)\t0.0473346566269\n",
      "  (3, 1)\t0.0280229334689\n",
      "  (3, 3)\t1.0\n",
      "  (3, 0)\t0.063243282029\n",
      "  (4, 3)\t0.034999109121\n",
      "  (4, 4)\t1.0\n",
      "  (4, 2)\t0.129711762854\n",
      "  (4, 1)\t0.0247116350123\n",
      "  (4, 0)\t0.0411088002824\n"
     ]
    }
   ],
   "source": [
    "print \"Jumlah COSINE-SIMILARITY=============================\"\n",
    "print pairwise_similarity"
   ]
  },
  {
   "cell_type": "code",
   "execution_count": null,
   "metadata": {
    "collapsed": true
   },
   "outputs": [],
   "source": []
  }
 ],
 "metadata": {
  "kernelspec": {
   "display_name": "Python 2",
   "language": "python",
   "name": "python2"
  },
  "language_info": {
   "codemirror_mode": {
    "name": "ipython",
    "version": 2
   },
   "file_extension": ".py",
   "mimetype": "text/x-python",
   "name": "python",
   "nbconvert_exporter": "python",
   "pygments_lexer": "ipython2",
   "version": "2.7.10"
  }
 },
 "nbformat": 4,
 "nbformat_minor": 2
}
